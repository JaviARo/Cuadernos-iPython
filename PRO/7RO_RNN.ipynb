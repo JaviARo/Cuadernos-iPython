{
  "nbformat": 4,
  "nbformat_minor": 0,
  "metadata": {
    "colab": {
      "provenance": []
    },
    "kernelspec": {
      "name": "python3",
      "display_name": "Python 3"
    },
    "accelerator": "GPU"
  },
  "cells": [
    {
      "metadata": {
        "id": "mX8gZlVyCCbz"
      },
      "cell_type": "markdown",
      "source": [
        "# Laboratorio: Modelos del lenguaje con RNNs\n",
        "\n",
        "En este laboratorio, vamos a entrenar un modelo del lenguaje basado en caracteres con Recurrent Neural Networks. Asimismo, utilizaremos el modelo para generar texto. En particular, alimentaremos nuestro modelo con obras de la literatura clásica en castellano para obtener una red neuronal que sea capaz de \"escribir\" fragmentos literarios.\n",
        "\n",
        "Los entrenamientos en esta laboratorio para obtener un modelo de calidad podrían tomar cierto tiempo (5-10 minutos por epoch), por lo que se aconseja empezar a trabajar pronto. El uso de GPUs no ayuda tanto con LSTMs como con CNNs, por lo que si tenéis máquinas potentes en casa es posible que podáis entrenar más rápido o a la misma velocidad que en Colab. En todo caso, la potencia de Colab es más que suficiente para completar este laboratorio con éxito.\n",
        "\n",
        "<center><img src=\"https://upload.wikimedia.org/wikipedia/commons/thumb/c/cb/Portada_Trafalgar_%281873%29.jpg/800px-Portada_Trafalgar_%281873%29.jpg\" style=\"text-align: center\" height=\"300px\"></center>\n",
        "\n",
        "El dataset a utilizar consistirá en un archivo de texto con el contenido íntegro en castellano de Trafalgar, disponible de manera libre en la página de [Project Gutenberg](https://www.gutenberg.org). Asimismo, como apartado optativo en este laboratorio se pueden utilizar otras fuentes de texto. Aquí podéis descargar los datos a utilizar de El Quijote y un par de obras adicionales:\n",
        "\n",
        "[El ingenioso hidalgo Don Quijote de la Mancha (Miguel de Cervantes)](https://onedrive.live.com/download?cid=C506CF0A4F373B0F&resid=C506CF0A4F373B0F%219424&authkey=AH0gb-qSo5Xd7Io)\n",
        "\n",
        "[Compilación de obras teatrales (Calderón de la Barca)](https://onedrive.live.com/download?cid=C506CF0A4F373B0F&resid=C506CF0A4F373B0F%219433&authkey=AKvGD6DC3IRBqmc)\n",
        "\n",
        "[Trafalgar (Benito Pérez Galdós)](https://onedrive.live.com/download?cid=C506CF0A4F373B0F&resid=C506CF0A4F373B0F%219434&authkey=AErPCAtMKOI5tYQ)\n",
        "\n",
        "Como ya deberíamos de estar acostumbrados en problemas de Machine Learning, es importante echar un vistazo a los datos antes de empezar."
      ]
    },
    {
      "metadata": {
        "id": "QI274F8LQC59"
      },
      "cell_type": "markdown",
      "source": [
        "## 1. Carga y procesado del texto"
      ]
    },
    {
      "metadata": {
        "id": "MZNnzvXuqVVm"
      },
      "cell_type": "markdown",
      "source": [
        "Primero, vamos a descargar el libro e inspeccionar los datos. El fichero a descargar es una versión en .txt del libro Trafalgar, a la cual se le han borrado introducciones, licencias y otras secciones para dejarlo con el contenido real de la novela."
      ]
    },
    {
      "metadata": {
        "id": "D7tKOZ9BFfki"
      },
      "cell_type": "code",
      "source": [
        "## TU CÓDIGO AQUÍ"
      ],
      "execution_count": null,
      "outputs": []
    },
    {
      "metadata": {
        "id": "VYGLvjLXrUUd"
      },
      "cell_type": "markdown",
      "source": [
        "Una vez descargado, vamos a leer el contenido del fichero en una variable. Adicionalmente, convertiremos el contenido del texto a minúsculas para ponérselo un poco más fácil a nuestro modelo (de modo que todas las letras sean minúsculas y el modelo no necesite diferenciar entre minúsculas y mayúsculas).\n",
        "\n",
        "**1.1.** Leer todo el contenido del fichero en una única variable ***text*** y convertir el string a minúsculas"
      ]
    },
    {
      "metadata": {
        "id": "8WB6FejrrTu9"
      },
      "cell_type": "code",
      "source": [
        "## TU CÓDIGO AQUÍ"
      ],
      "execution_count": null,
      "outputs": []
    },
    {
      "metadata": {
        "id": "dkgGl8GWtUk8"
      },
      "cell_type": "markdown",
      "source": [
        "Podemos comprobar ahora que efectivamente nuestra variable contiene el resultado deseado, con el comienzo tan característico del Quijote."
      ]
    },
    {
      "metadata": {
        "id": "hMFhe3COFwSD"
      },
      "cell_type": "code",
      "source": [
        "## TU CÓDIGO AQUÍ"
      ],
      "execution_count": null,
      "outputs": []
    },
    {
      "metadata": {
        "id": "bZ7TUXWiyvOj"
      },
      "cell_type": "markdown",
      "source": [
        "## 2. Procesado de los datos"
      ]
    },
    {
      "metadata": {
        "id": "x66_Vi_Gyxns"
      },
      "cell_type": "markdown",
      "source": [
        "Una de las grandes ventajas de trabajar con modelos que utilizan caracteres en vez de palabras es que no necesitamos tokenizar el texto (partirlo palabra a palabra). Nuestro modelo funcionará directamente con los caracteres en el texto, incluyendo espacios, saltos de línea, etc.\n",
        "\n",
        "Antes de hacer nada, necesitamos procesar el texto en entradas y salidas compatibles con nuestro modelo. Como sabemos, un modelo del lenguaje con RNNs acepta una serie de caracteres y predice el siguiente carácter en la secuencia.\n",
        "\n",
        "* \"*Se me permitirá que antes de referir el gr*\" -> predicción: **a**\n",
        "* \"*e me permitirá que antes de referir el gra*\" -> predicción: **n**\n",
        "\n",
        "De modo que la entrada y la salida de nuestro modelo necesita ser algo parecido a este esquema. En este punto, podríamos usar dos formas de preparar los datos para nuestro modelo.\n",
        "\n",
        "1. **Secuencia a secuencia**. La entrada de nuestro modelo sería una secuencia y la salida sería esa secuencia trasladada un caracter a la derecha, de modo que en cada instante de tiempo la RNN tiene que predecir el carácter siguiente. Por ejemplo:\n",
        "\n",
        ">* *Input*:  Se me permitirá que antes de referir el gr\n",
        ">* *Output*: e me permitirá que antes de referir el gra\n",
        "\n",
        "2. **Secuencia a carácter**. En este variante, pasaríamos una secuencia de caracteres por nuestra RNN y, al llegar al final de la secuencia, predeciríamos el siguiente carácter.\n",
        "\n",
        ">* *Input*:  Se me permitirá que antes de referir el gr\n",
        ">* *Output*: a\n",
        "\n",
        "En este laboratorio, por simplicidad, vamos a utilizar la segunda variante (PERO USANDO PALABRAS NO CARACTERES).\n",
        "\n",
        "De este modo, a partir del texto, hemos de generar nuestro propio training data que consista en secuencias de PALABRAS con la siguiente PALABRA a predecir. Para estandarizar las cosas, utilizaremos secuencias de tamaño *SEQ_LENGTH* PALABRAS (un hiperparámetro que podemos elegir nosotros).\n",
        "\n"
      ]
    },
    {
      "metadata": {
        "id": "mkfJUIxW5m5C"
      },
      "cell_type": "markdown",
      "source": [
        "#### 2.1. Obtención de las palabras y mapas de palabras\n",
        "\n",
        "Antes que nada, necesitamos saber qué palabras aparecen en el texto, ya que tendremos que diferenciarlos mediante un índice de 0 a *num_words* - 1 en el modelo. Obtener:\n",
        "\n",
        "\n",
        "1.   Número de caracteres únicos que aparecen en el texto.\n",
        "2.   Diccionario que asocia char a índice único entre 0 y *num_words* - 1. Por ejemplo, {'se': 0, 'me': 1, ...}\n",
        "3.   Diccionario reverso de índices a palabras: {0: 'se', 1: 'me', ...}\n"
      ]
    },
    {
      "metadata": {
        "id": "5bJ0NsbCbupF"
      },
      "cell_type": "code",
      "source": [
        "## TU CÓDIGO AQUÍ"
      ],
      "execution_count": null,
      "outputs": []
    },
    {
      "metadata": {
        "id": "Y_B4AWo0ElwA"
      },
      "cell_type": "markdown",
      "source": [
        "#### 2.2. Obtención de secuencias de entrada y palabra a predecir\n",
        "\n",
        "Ahora, vamos a obtener las secuencias de entrada en formato texto y las correspondientes palabras a predecir. Para ello, recorrer el texto completo leído anteriormente, obteniendo una secuencia de SEQ_LENGTH palabras y la siguiente palabra a predecir. Una vez hecho, desplazarse una palabra a la derecha y hacer lo mismo para obtener una nueva secuencia y predicción. Guardar las secuencias en una variable ***sequences*** y las palabras a predecir en una variable ***next_words***.\n",
        "\n",
        "Por ejemplo, si el texto fuera \"Don Quijote\" y SEQ_LENGTH fuese 2, tendríamos\n",
        "\n",
        "* *sequences* = [\"Don Quijote\", \"Quijote de\"]\n",
        "* *next_chars* = ['de', 'La']"
      ]
    },
    {
      "metadata": {
        "id": "NslxhnnDK6uA"
      },
      "cell_type": "code",
      "source": [
        "# Definimos el tamaño de las secuencias. Puedes dejar este valor por defecto.\n",
        "SEQ_LENGTH = 30\n",
        "\n",
        "sequences = []\n",
        "next_words = []\n",
        "\n",
        "## TU CÓDIGO AQUÍ"
      ],
      "execution_count": null,
      "outputs": []
    },
    {
      "metadata": {
        "id": "1Y3AmjYtHdLJ"
      },
      "cell_type": "markdown",
      "source": [
        "Indicar el tamaño del training set que acabamos de generar."
      ]
    },
    {
      "metadata": {
        "id": "WVWqKxFcbwTu"
      },
      "cell_type": "code",
      "source": [
        "## TU CÓDIGO AQUÍ"
      ],
      "execution_count": null,
      "outputs": []
    },
    {
      "metadata": {
        "id": "goGQkKcwpLRJ"
      },
      "cell_type": "markdown",
      "source": [
        "Como el Quijote es muy largo y tenemos muchas secuencias, podríamos encontrar problemas de memoria. Por ello, vamos a elegir un número máximo de ellas. Si estás corriendo esto localmente y tienes problemas de memoria, puedes reducir el tamaño aún más, pero ten cuidado porque, a menos datos, peor calidad del modelo."
      ]
    },
    {
      "metadata": {
        "id": "2pm1Q19ppw8F"
      },
      "cell_type": "code",
      "source": [
        "## TU CÓDIGO AQUÍ"
      ],
      "execution_count": null,
      "outputs": []
    },
    {
      "metadata": {
        "id": "4FzgtAbPIs6f"
      },
      "cell_type": "markdown",
      "source": [
        "#### 2.3. Obtención de input X y output y para el modelo\n",
        "\n",
        "Finalmente, a partir de los datos de entrenamiento que hemos generado vamos a crear los arrays de datos X e y que pasaremos a nuestro modelo.\n",
        "\n",
        "Para ello, vamos a utilizar *one-hot encoding* para nuestras palabras. Por ejemplo, si sólo tuviéramos 4 palabras (a, b, c, d), las representaciones serían: (1, 0, 0, 0), (0, 1, 0, 0), (0, 0, 1, 0) y (0, 0, 0, 1).\n",
        "\n",
        "De este modo, **X** tendrá shape *(num_sequences, seq_length, num_words)* e **y** tendrá shape *(num_sequences, num_words)*.\n",
        "\n"
      ]
    },
    {
      "metadata": {
        "id": "zMBwZ9obNGNg"
      },
      "cell_type": "code",
      "source": [
        "## TU CÓDIGO AQUÍ"
      ],
      "execution_count": null,
      "outputs": []
    },
    {
      "metadata": {
        "id": "IxeUxz3HPm3l"
      },
      "cell_type": "markdown",
      "source": [
        "## 3. Definición del modelo y entrenamiento\n",
        "\n",
        "Una vez tenemos ya todo preparado, es hora de definir el modelo. Define un modelo que utilice una **LSTM** con **128 unidades internas**. Si bien el modelo puede definirse de una manera más compleja, para empezar debería bastar con una LSTM más una capa Dense con el *softmax* que predice el siguiente caracter a producir. Adam puede ser una buena elección de optimizador.\n",
        "\n",
        "Una vez el modelo esté definido, entrénalo un poco para asegurarte de que la loss es decreciente. No es necesario guardar la salida de este entrenamiento en el entregable final, ya que vamos a hacer el entrenamiento más informativo en el siguiente punto."
      ]
    },
    {
      "metadata": {
        "id": "MSw2j0btYWZs"
      },
      "cell_type": "code",
      "source": [
        "## TU CÓDIGO AQUÍ"
      ],
      "execution_count": null,
      "outputs": []
    },
    {
      "metadata": {
        "id": "3yUFHS4kHkyY"
      },
      "cell_type": "markdown",
      "source": [
        "Para ver cómo evoluciona nuestro modelo del lenguaje, vamos a generar texto según va entrenando. Para ello, vamos a programar una función que, utilizando el modelo en su estado actual, genere texto, con la idea de ver cómo se va generando texto al entrenar cada epoch.\n",
        "\n",
        "En el código de abajo podemos ver una función auxiliar para obtener valores de una distribución multinomial. Esta función se usará para muestrear el siguiente carácter a utilizar según las probabilidades de la salida de softmax (en vez de tomar directamente el valor con la máxima probabilidad, obtenemos un valor aleatorio según la distribución de probabilidad dada por softmax, de modo que nuestros resultados serán más diversos, pero seguirán teniendo \"sentido\" ya que el modelo tenderá a seleccionar valores con más probabilidad).\n",
        "\n"
      ]
    },
    {
      "metadata": {
        "id": "LoGYpWOHd7Lr"
      },
      "cell_type": "code",
      "source": [
        "## TU CÓDIGO AQUÍ"
      ],
      "execution_count": null,
      "outputs": []
    },
    {
      "metadata": {
        "id": "3fejfZldd4ou"
      },
      "cell_type": "markdown",
      "source": [
        "Utilizando la función anterior y el modelo entrenado, vamos a añadir un callback a nuestro modelo para que, según vaya entrenando, veamos los valores que resultan de generar textos con distintas temperaturas al acabar cada epoch.\n",
        "\n",
        "Para ello, abajo tenéis disponible el callback *on_epoch_end*. Esta función elige una secuencia de texto al azar en el texto disponible en la variable\n",
        "text y genera textos de longitud *GENERATED_TEXT_LENGTH* según las temperaturas en *TEMPERATURES_TO_TRY*, utilizando para ello la función *generate_text*.\n",
        "\n",
        "Completa la función *generate_text* de modo que utilicemos el modelo y la función sample para generar texto.\n",
        "\n",
        "NOTA: Cuando hagas model.predict, es aconsejable usar verbose=0 como argumento para evitar que la función imprima valores de salida."
      ]
    },
    {
      "metadata": {
        "id": "xOEZvnBXkODd"
      },
      "cell_type": "code",
      "source": [
        "## TU CÓDIGO AQUÍ"
      ],
      "execution_count": null,
      "outputs": []
    },
    {
      "metadata": {
        "id": "BSMYZ2JdrSJg"
      },
      "cell_type": "markdown",
      "source": [
        "Entrena ahora tu modelo. No te olvides de añadir *generation_callback* a la lista de callbacks utilizados en fit(). Ya que las métricas de clasificación no son tan críticas aquí (no nos importa tanto acertar el carácter exacto, sino obtener una distribución de probabilidad adecuada), no es necesario monitorizar la accuracy ni usar validation data, si bien puedes añadirlos para asegurarte de que todo está en orden.\n"
      ]
    },
    {
      "metadata": {
        "id": "3oT7pNvjrP2e"
      },
      "cell_type": "code",
      "source": [
        "## TU CÓDIGO AQUÍ"
      ],
      "execution_count": null,
      "outputs": []
    },
    {
      "metadata": {
        "id": "pBbmz9DMhVhc"
      },
      "cell_type": "markdown",
      "source": [
        "## Entregable\n",
        "\n",
        "Completa los apartados anteriores para entrenar modelos del lenguaje que sean capaces de generar texto con cierto sentido. Comentar los resultados obtenidos y cómo el modelo va mejorando época a época. Comentar las diferencias apreciadas al utilizar diferentes valores de temperatura. Entregar al menos la salida de un entrenamiento completo con los textos generados época a época.\n",
        "\n",
        "El objetivo no es conseguir generar pasajes literarios con coherencia, sino obtener lenguaje que se asemeje en cierta manera a lo visto en el texto original y donde las palabras sean reconocibles como construcciones en castellano. Como ejemplo de lo que se puede conseguir, este es el resultado de generar texto después de 10 epochs y con temperature 0.2 usando El Quijote:\n",
        "\n",
        "\n",
        "```\n",
        "-----> Epoch: 10 - Generando texto con temperature 0.2\n",
        "Seed: o le cautivaron y rindieron el\n",
        "Texto generado: o le cautivaron y rindieron el caballero de la caballería de la mano de la caballería del cual se le dijo:\n",
        "\n",
        "-¿quién es el verdad de la caballería de la caballería de la caballería de la caballería de la caballería, y me ha de habían de la mano que el caballero de la mano de la caballería. y que no se le habían de la mano de la c\n",
        "\n",
        "```\n",
        "\n",
        "Asimismo, se proponen los siguientes aspectos opcionales para conseguir nota extra:\n",
        "\n",
        "*   Experimentar con los textos de teatro en verso de Calderón de la Barca (¿es capaz el modelo de aprender las estructuras del teatro en verso?) o con alguno de los otros textos disponibles. También se puede probar con textos de vuestra elección.\n",
        "*   Experimentar con distintos valores de SEQ_LENGTH.\n",
        "*   Experimentar con los hiperparámetros del modelo o probar otro tipo de modelos como GRUs o *stacked* RNNs (RNNs apiladas).\n",
        "*   Experimentar utilizando embeddings en vez de representaciones one-hot.\n",
        "*   (Difícil) Entrenar un modelo secuencia a secuencia en vez de secuencia a carácter.\n",
        "\n",
        "\n"
      ]
    }
  ]
}