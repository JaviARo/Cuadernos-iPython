{
  "cells": [
    {
      "cell_type": "code",
      "execution_count": 8,
      "metadata": {},
      "outputs": [
        {
          "name": "stdout",
          "output_type": "stream",
          "text": [
            "Defaulting to user installation because normal site-packages is not writeable\n",
            "Collecting tensorflowjs\n",
            "  Obtaining dependency information for tensorflowjs from https://files.pythonhosted.org/packages/6d/0c/58a0ecd008c8da8485f904382e191ee1eabb79a5f305dc1421f0939a3c5b/tensorflowjs-4.17.0-py3-none-any.whl.metadata\n",
            "  Using cached tensorflowjs-4.17.0-py3-none-any.whl.metadata (3.2 kB)\n",
            "Collecting flax>=0.7.2 (from tensorflowjs)\n",
            "  Obtaining dependency information for flax>=0.7.2 from https://files.pythonhosted.org/packages/b9/92/59b0a2b5df281206433fa6496b176e95249eb0a8192586f88309d7d5df27/flax-0.8.2-py3-none-any.whl.metadata\n",
            "  Using cached flax-0.8.2-py3-none-any.whl.metadata (10 kB)\n",
            "Requirement already satisfied: importlib_resources>=5.9.0 in c:\\users\\javi\\appdata\\roaming\\python\\python311\\site-packages (from tensorflowjs) (6.4.0)\n",
            "Requirement already satisfied: jax>=0.4.13 in c:\\users\\javi\\appdata\\roaming\\python\\python311\\site-packages (from tensorflowjs) (0.4.26)\n",
            "Requirement already satisfied: jaxlib>=0.4.13 in c:\\users\\javi\\appdata\\roaming\\python\\python311\\site-packages (from tensorflowjs) (0.4.26)\n",
            "Requirement already satisfied: tensorflow<3,>=2.13.0 in c:\\users\\javi\\appdata\\roaming\\python\\python311\\site-packages (from tensorflowjs) (2.16.1)\n",
            "Collecting tensorflow-decision-forests>=1.5.0 (from tensorflowjs)\n",
            "  Using cached tensorflow_decision_forests-1.8.1-cp311-cp311-win_amd64.whl\n",
            "Requirement already satisfied: six<2,>=1.16.0 in c:\\programdata\\anaconda3\\lib\\site-packages (from tensorflowjs) (1.16.0)\n",
            "Collecting tensorflow-hub>=0.14.0 (from tensorflowjs)\n",
            "  Obtaining dependency information for tensorflow-hub>=0.14.0 from https://files.pythonhosted.org/packages/e5/50/00dba77925bf2a0a1e45d7bcf8a69a1d2534fb4bb277d9010bd148d2235e/tensorflow_hub-0.16.1-py2.py3-none-any.whl.metadata\n",
            "  Using cached tensorflow_hub-0.16.1-py2.py3-none-any.whl.metadata (1.3 kB)\n",
            "Requirement already satisfied: packaging~=23.1 in c:\\programdata\\anaconda3\\lib\\site-packages (from tensorflowjs) (23.1)\n",
            "Requirement already satisfied: numpy>=1.22 in c:\\programdata\\anaconda3\\lib\\site-packages (from flax>=0.7.2->tensorflowjs) (1.24.3)\n",
            "Requirement already satisfied: msgpack in c:\\programdata\\anaconda3\\lib\\site-packages (from flax>=0.7.2->tensorflowjs) (1.0.3)\n",
            "Requirement already satisfied: optax in c:\\users\\javi\\appdata\\roaming\\python\\python311\\site-packages (from flax>=0.7.2->tensorflowjs) (0.2.2)\n",
            "Requirement already satisfied: orbax-checkpoint in c:\\users\\javi\\appdata\\roaming\\python\\python311\\site-packages (from flax>=0.7.2->tensorflowjs) (0.5.9)\n",
            "Requirement already satisfied: tensorstore in c:\\users\\javi\\appdata\\roaming\\python\\python311\\site-packages (from flax>=0.7.2->tensorflowjs) (0.1.56)\n",
            "Requirement already satisfied: rich>=11.1 in c:\\users\\javi\\appdata\\roaming\\python\\python311\\site-packages (from flax>=0.7.2->tensorflowjs) (13.7.1)\n",
            "Requirement already satisfied: typing-extensions>=4.2 in c:\\programdata\\anaconda3\\lib\\site-packages (from flax>=0.7.2->tensorflowjs) (4.7.1)\n",
            "Requirement already satisfied: PyYAML>=5.4.1 in c:\\programdata\\anaconda3\\lib\\site-packages (from flax>=0.7.2->tensorflowjs) (6.0)\n",
            "Requirement already satisfied: ml-dtypes>=0.2.0 in c:\\users\\javi\\appdata\\roaming\\python\\python311\\site-packages (from jax>=0.4.13->tensorflowjs) (0.3.2)\n",
            "Requirement already satisfied: opt-einsum in c:\\users\\javi\\appdata\\roaming\\python\\python311\\site-packages (from jax>=0.4.13->tensorflowjs) (3.3.0)\n",
            "Requirement already satisfied: scipy>=1.9 in c:\\programdata\\anaconda3\\lib\\site-packages (from jax>=0.4.13->tensorflowjs) (1.11.1)\n",
            "Collecting tensorflow-intel==2.16.1 (from tensorflow<3,>=2.13.0->tensorflowjs)\n",
            "  Obtaining dependency information for tensorflow-intel==2.16.1 from https://files.pythonhosted.org/packages/e0/36/6278e4e7e69a90c00e0f82944d8f2713dd85a69d1add455d9e50446837ab/tensorflow_intel-2.16.1-cp311-cp311-win_amd64.whl.metadata\n",
            "  Using cached tensorflow_intel-2.16.1-cp311-cp311-win_amd64.whl.metadata (5.0 kB)\n",
            "Requirement already satisfied: absl-py>=1.0.0 in c:\\users\\javi\\appdata\\roaming\\python\\python311\\site-packages (from tensorflow-intel==2.16.1->tensorflow<3,>=2.13.0->tensorflowjs) (2.1.0)\n",
            "Requirement already satisfied: astunparse>=1.6.0 in c:\\users\\javi\\appdata\\roaming\\python\\python311\\site-packages (from tensorflow-intel==2.16.1->tensorflow<3,>=2.13.0->tensorflowjs) (1.6.3)\n",
            "Requirement already satisfied: flatbuffers>=23.5.26 in c:\\users\\javi\\appdata\\roaming\\python\\python311\\site-packages (from tensorflow-intel==2.16.1->tensorflow<3,>=2.13.0->tensorflowjs) (24.3.7)\n",
            "Requirement already satisfied: gast!=0.5.0,!=0.5.1,!=0.5.2,>=0.2.1 in c:\\users\\javi\\appdata\\roaming\\python\\python311\\site-packages (from tensorflow-intel==2.16.1->tensorflow<3,>=2.13.0->tensorflowjs) (0.5.4)\n",
            "Requirement already satisfied: google-pasta>=0.1.1 in c:\\users\\javi\\appdata\\roaming\\python\\python311\\site-packages (from tensorflow-intel==2.16.1->tensorflow<3,>=2.13.0->tensorflowjs) (0.2.0)\n",
            "Requirement already satisfied: h5py>=3.10.0 in c:\\users\\javi\\appdata\\roaming\\python\\python311\\site-packages (from tensorflow-intel==2.16.1->tensorflow<3,>=2.13.0->tensorflowjs) (3.10.0)\n",
            "Requirement already satisfied: libclang>=13.0.0 in c:\\users\\javi\\appdata\\roaming\\python\\python311\\site-packages (from tensorflow-intel==2.16.1->tensorflow<3,>=2.13.0->tensorflowjs) (18.1.1)\n",
            "Requirement already satisfied: protobuf!=4.21.0,!=4.21.1,!=4.21.2,!=4.21.3,!=4.21.4,!=4.21.5,<5.0.0dev,>=3.20.3 in c:\\users\\javi\\appdata\\roaming\\python\\python311\\site-packages (from tensorflow-intel==2.16.1->tensorflow<3,>=2.13.0->tensorflowjs) (4.25.3)\n",
            "Requirement already satisfied: requests<3,>=2.21.0 in c:\\programdata\\anaconda3\\lib\\site-packages (from tensorflow-intel==2.16.1->tensorflow<3,>=2.13.0->tensorflowjs) (2.31.0)\n",
            "Requirement already satisfied: setuptools in c:\\programdata\\anaconda3\\lib\\site-packages (from tensorflow-intel==2.16.1->tensorflow<3,>=2.13.0->tensorflowjs) (68.0.0)\n",
            "Requirement already satisfied: termcolor>=1.1.0 in c:\\users\\javi\\appdata\\roaming\\python\\python311\\site-packages (from tensorflow-intel==2.16.1->tensorflow<3,>=2.13.0->tensorflowjs) (2.4.0)\n",
            "Requirement already satisfied: wrapt>=1.11.0 in c:\\programdata\\anaconda3\\lib\\site-packages (from tensorflow-intel==2.16.1->tensorflow<3,>=2.13.0->tensorflowjs) (1.14.1)\n",
            "Requirement already satisfied: grpcio<2.0,>=1.24.3 in c:\\users\\javi\\appdata\\roaming\\python\\python311\\site-packages (from tensorflow-intel==2.16.1->tensorflow<3,>=2.13.0->tensorflowjs) (1.62.1)\n",
            "Collecting tensorboard<2.17,>=2.16 (from tensorflow-intel==2.16.1->tensorflow<3,>=2.13.0->tensorflowjs)\n",
            "  Obtaining dependency information for tensorboard<2.17,>=2.16 from https://files.pythonhosted.org/packages/3a/d0/b97889ffa769e2d1fdebb632084d5e8b53fc299d43a537acee7ec0c021a3/tensorboard-2.16.2-py3-none-any.whl.metadata\n",
            "  Using cached tensorboard-2.16.2-py3-none-any.whl.metadata (1.6 kB)\n",
            "Collecting keras>=3.0.0 (from tensorflow-intel==2.16.1->tensorflow<3,>=2.13.0->tensorflowjs)\n",
            "  Obtaining dependency information for keras>=3.0.0 from https://files.pythonhosted.org/packages/48/a6/ac5cc97a2677e07d3ac359d05cfb2974ec16c8c8ae6dd265e94706256608/keras-3.2.1-py3-none-any.whl.metadata\n",
            "  Downloading keras-3.2.1-py3-none-any.whl.metadata (5.6 kB)\n",
            "Requirement already satisfied: tensorflow-io-gcs-filesystem>=0.23.1 in c:\\users\\javi\\appdata\\roaming\\python\\python311\\site-packages (from tensorflow-intel==2.16.1->tensorflow<3,>=2.13.0->tensorflowjs) (0.31.0)\n",
            "Requirement already satisfied: pandas in c:\\programdata\\anaconda3\\lib\\site-packages (from tensorflow-decision-forests>=1.5.0->tensorflowjs) (2.0.3)\n",
            "Collecting tensorflow<3,>=2.13.0 (from tensorflowjs)\n",
            "  Obtaining dependency information for tensorflow<3,>=2.13.0 from https://files.pythonhosted.org/packages/cb/c5/f5b31ee348459d6f6c54d762488aa0a8e42ff11a7395f4d158915ad43000/tensorflow-2.15.1-cp311-cp311-win_amd64.whl.metadata\n",
            "  Using cached tensorflow-2.15.1-cp311-cp311-win_amd64.whl.metadata (3.4 kB)\n",
            "Requirement already satisfied: wheel in c:\\programdata\\anaconda3\\lib\\site-packages (from tensorflow-decision-forests>=1.5.0->tensorflowjs) (0.38.4)\n",
            "Requirement already satisfied: wurlitzer in c:\\users\\javi\\appdata\\roaming\\python\\python311\\site-packages (from tensorflow-decision-forests>=1.5.0->tensorflowjs) (3.0.3)\n",
            "Requirement already satisfied: tensorflow-intel==2.15.1 in c:\\users\\javi\\appdata\\roaming\\python\\python311\\site-packages (from tensorflow<3,>=2.13.0->tensorflowjs) (2.15.1)\n",
            "Requirement already satisfied: tensorboard<2.16,>=2.15 in c:\\users\\javi\\appdata\\roaming\\python\\python311\\site-packages (from tensorflow-intel==2.15.1->tensorflow<3,>=2.13.0->tensorflowjs) (2.15.2)\n",
            "Requirement already satisfied: tensorflow-estimator<2.16,>=2.15.0 in c:\\users\\javi\\appdata\\roaming\\python\\python311\\site-packages (from tensorflow-intel==2.15.1->tensorflow<3,>=2.13.0->tensorflowjs) (2.15.0)\n",
            "Requirement already satisfied: keras<2.16,>=2.15.0 in c:\\users\\javi\\appdata\\roaming\\python\\python311\\site-packages (from tensorflow-intel==2.15.1->tensorflow<3,>=2.13.0->tensorflowjs) (2.15.0)\n",
            "Collecting tf-keras>=2.14.1 (from tensorflow-hub>=0.14.0->tensorflowjs)\n",
            "  Obtaining dependency information for tf-keras>=2.14.1 from https://files.pythonhosted.org/packages/75/aa/cf09f8956d4f276f655b13674e15d8d6015fd832f9689aa9ff2a515781ab/tf_keras-2.16.0-py3-none-any.whl.metadata\n",
            "  Using cached tf_keras-2.16.0-py3-none-any.whl.metadata (1.6 kB)\n",
            "Requirement already satisfied: markdown-it-py>=2.2.0 in c:\\programdata\\anaconda3\\lib\\site-packages (from rich>=11.1->flax>=0.7.2->tensorflowjs) (2.2.0)\n",
            "Requirement already satisfied: pygments<3.0.0,>=2.13.0 in c:\\programdata\\anaconda3\\lib\\site-packages (from rich>=11.1->flax>=0.7.2->tensorflowjs) (2.15.1)\n",
            "INFO: pip is looking at multiple versions of tf-keras to determine which version is compatible with other requirements. This could take a while.\n",
            "  Obtaining dependency information for tf-keras>=2.14.1 from https://files.pythonhosted.org/packages/6f/23/6fd9aab5b7ef9e5614b94edce48d92db9d38d2bd2d00ef2c7a6f82a00588/tf_keras-2.15.1-py3-none-any.whl.metadata\n",
            "  Using cached tf_keras-2.15.1-py3-none-any.whl.metadata (1.7 kB)\n",
            "Requirement already satisfied: chex>=0.1.86 in c:\\users\\javi\\appdata\\roaming\\python\\python311\\site-packages (from optax->flax>=0.7.2->tensorflowjs) (0.1.86)\n",
            "Requirement already satisfied: etils[epath,epy] in c:\\users\\javi\\appdata\\roaming\\python\\python311\\site-packages (from orbax-checkpoint->flax>=0.7.2->tensorflowjs) (1.8.0)\n",
            "Requirement already satisfied: nest_asyncio in c:\\programdata\\anaconda3\\lib\\site-packages (from orbax-checkpoint->flax>=0.7.2->tensorflowjs) (1.5.6)\n",
            "Requirement already satisfied: python-dateutil>=2.8.2 in c:\\programdata\\anaconda3\\lib\\site-packages (from pandas->tensorflow-decision-forests>=1.5.0->tensorflowjs) (2.8.2)\n",
            "Requirement already satisfied: pytz>=2020.1 in c:\\programdata\\anaconda3\\lib\\site-packages (from pandas->tensorflow-decision-forests>=1.5.0->tensorflowjs) (2023.3.post1)\n",
            "Requirement already satisfied: tzdata>=2022.1 in c:\\programdata\\anaconda3\\lib\\site-packages (from pandas->tensorflow-decision-forests>=1.5.0->tensorflowjs) (2023.3)\n",
            "Requirement already satisfied: toolz>=0.9.0 in c:\\programdata\\anaconda3\\lib\\site-packages (from chex>=0.1.86->optax->flax>=0.7.2->tensorflowjs) (0.12.0)\n",
            "Requirement already satisfied: mdurl~=0.1 in c:\\programdata\\anaconda3\\lib\\site-packages (from markdown-it-py>=2.2.0->rich>=11.1->flax>=0.7.2->tensorflowjs) (0.1.0)\n",
            "Requirement already satisfied: google-auth<3,>=1.6.3 in c:\\users\\javi\\appdata\\roaming\\python\\python311\\site-packages (from tensorboard<2.16,>=2.15->tensorflow-intel==2.15.1->tensorflow<3,>=2.13.0->tensorflowjs) (2.29.0)\n",
            "Requirement already satisfied: google-auth-oauthlib<2,>=0.5 in c:\\users\\javi\\appdata\\roaming\\python\\python311\\site-packages (from tensorboard<2.16,>=2.15->tensorflow-intel==2.15.1->tensorflow<3,>=2.13.0->tensorflowjs) (1.2.0)\n",
            "Requirement already satisfied: markdown>=2.6.8 in c:\\programdata\\anaconda3\\lib\\site-packages (from tensorboard<2.16,>=2.15->tensorflow-intel==2.15.1->tensorflow<3,>=2.13.0->tensorflowjs) (3.4.1)\n",
            "Requirement already satisfied: tensorboard-data-server<0.8.0,>=0.7.0 in c:\\users\\javi\\appdata\\roaming\\python\\python311\\site-packages (from tensorboard<2.16,>=2.15->tensorflow-intel==2.15.1->tensorflow<3,>=2.13.0->tensorflowjs) (0.7.2)\n",
            "Requirement already satisfied: werkzeug>=1.0.1 in c:\\programdata\\anaconda3\\lib\\site-packages (from tensorboard<2.16,>=2.15->tensorflow-intel==2.15.1->tensorflow<3,>=2.13.0->tensorflowjs) (2.2.3)\n",
            "Requirement already satisfied: fsspec in c:\\programdata\\anaconda3\\lib\\site-packages (from etils[epath,epy]->orbax-checkpoint->flax>=0.7.2->tensorflowjs) (2023.4.0)\n",
            "Requirement already satisfied: zipp in c:\\programdata\\anaconda3\\lib\\site-packages (from etils[epath,epy]->orbax-checkpoint->flax>=0.7.2->tensorflowjs) (3.11.0)\n",
            "Requirement already satisfied: cachetools<6.0,>=2.0.0 in c:\\users\\javi\\appdata\\roaming\\python\\python311\\site-packages (from google-auth<3,>=1.6.3->tensorboard<2.16,>=2.15->tensorflow-intel==2.15.1->tensorflow<3,>=2.13.0->tensorflowjs) (5.3.3)\n",
            "Requirement already satisfied: pyasn1-modules>=0.2.1 in c:\\programdata\\anaconda3\\lib\\site-packages (from google-auth<3,>=1.6.3->tensorboard<2.16,>=2.15->tensorflow-intel==2.15.1->tensorflow<3,>=2.13.0->tensorflowjs) (0.2.8)\n",
            "Requirement already satisfied: rsa<5,>=3.1.4 in c:\\users\\javi\\appdata\\roaming\\python\\python311\\site-packages (from google-auth<3,>=1.6.3->tensorboard<2.16,>=2.15->tensorflow-intel==2.15.1->tensorflow<3,>=2.13.0->tensorflowjs) (4.9)\n",
            "Requirement already satisfied: requests-oauthlib>=0.7.0 in c:\\users\\javi\\appdata\\roaming\\python\\python311\\site-packages (from google-auth-oauthlib<2,>=0.5->tensorboard<2.16,>=2.15->tensorflow-intel==2.15.1->tensorflow<3,>=2.13.0->tensorflowjs) (2.0.0)\n",
            "Requirement already satisfied: charset-normalizer<4,>=2 in c:\\programdata\\anaconda3\\lib\\site-packages (from requests<3,>=2.21.0->tensorflow-intel==2.16.1->tensorflow<3,>=2.13.0->tensorflowjs) (2.0.4)\n",
            "Requirement already satisfied: idna<4,>=2.5 in c:\\programdata\\anaconda3\\lib\\site-packages (from requests<3,>=2.21.0->tensorflow-intel==2.16.1->tensorflow<3,>=2.13.0->tensorflowjs) (3.4)\n",
            "Requirement already satisfied: urllib3<3,>=1.21.1 in c:\\programdata\\anaconda3\\lib\\site-packages (from requests<3,>=2.21.0->tensorflow-intel==2.16.1->tensorflow<3,>=2.13.0->tensorflowjs) (1.26.16)\n",
            "Requirement already satisfied: certifi>=2017.4.17 in c:\\programdata\\anaconda3\\lib\\site-packages (from requests<3,>=2.21.0->tensorflow-intel==2.16.1->tensorflow<3,>=2.13.0->tensorflowjs) (2023.7.22)\n",
            "Requirement already satisfied: MarkupSafe>=2.1.1 in c:\\programdata\\anaconda3\\lib\\site-packages (from werkzeug>=1.0.1->tensorboard<2.16,>=2.15->tensorflow-intel==2.15.1->tensorflow<3,>=2.13.0->tensorflowjs) (2.1.1)\n",
            "Requirement already satisfied: pyasn1<0.5.0,>=0.4.6 in c:\\programdata\\anaconda3\\lib\\site-packages (from pyasn1-modules>=0.2.1->google-auth<3,>=1.6.3->tensorboard<2.16,>=2.15->tensorflow-intel==2.15.1->tensorflow<3,>=2.13.0->tensorflowjs) (0.4.8)\n",
            "Requirement already satisfied: oauthlib>=3.0.0 in c:\\users\\javi\\appdata\\roaming\\python\\python311\\site-packages (from requests-oauthlib>=0.7.0->google-auth-oauthlib<2,>=0.5->tensorboard<2.16,>=2.15->tensorflow-intel==2.15.1->tensorflow<3,>=2.13.0->tensorflowjs) (3.2.2)\n",
            "Using cached tensorflowjs-4.17.0-py3-none-any.whl (89 kB)\n",
            "Using cached flax-0.8.2-py3-none-any.whl (686 kB)\n",
            "Using cached tensorflow-2.15.1-cp311-cp311-win_amd64.whl (2.1 kB)\n",
            "Using cached tensorflow_hub-0.16.1-py2.py3-none-any.whl (30 kB)\n",
            "Using cached tf_keras-2.15.1-py3-none-any.whl (1.7 MB)\n",
            "Installing collected packages: flax, tensorflow, tf-keras, tensorflow-decision-forests, tensorflow-hub, tensorflowjs\n",
            "  Attempting uninstall: tensorflow\n",
            "    Found existing installation: tensorflow 2.16.1\n",
            "    Uninstalling tensorflow-2.16.1:\n",
            "      Successfully uninstalled tensorflow-2.16.1\n",
            "Successfully installed flax-0.8.2 tensorflow-2.15.1 tensorflow-decision-forests-1.8.1 tensorflow-hub-0.16.1 tensorflowjs-4.17.0 tf-keras-2.15.1\n"
          ]
        },
        {
          "name": "stderr",
          "output_type": "stream",
          "text": [
            "  WARNING: The scripts tensorflowjs_converter.exe and tensorflowjs_wizard.exe are installed in 'C:\\Users\\Javi\\AppData\\Roaming\\Python\\Python311\\Scripts' which is not on PATH.\n",
            "  Consider adding this directory to PATH or, if you prefer to suppress this warning, use --no-warn-script-location.\n"
          ]
        }
      ],
      "source": [
        "!pip install tensorflowjs"
      ]
    },
    {
      "cell_type": "code",
      "execution_count": 2,
      "metadata": {},
      "outputs": [
        {
          "name": "stdout",
          "output_type": "stream",
          "text": [
            "Name: tensorflowjs\n",
            "Version: 4.17.0\n",
            "Summary: \n",
            "Home-page: https://js.tensorflow.org/\n",
            "Author: Google LLC\n",
            "Author-email: opensource@google.com\n",
            "License: Apache 2.0\n",
            "Location: C:\\Users\\Javi\\AppData\\Roaming\\Python\\Python311\\site-packages\n",
            "Requires: flax, importlib_resources, jax, jaxlib, packaging, six, tensorflow, tensorflow-decision-forests, tensorflow-hub\n",
            "Required-by: \n"
          ]
        }
      ],
      "source": [
        "!pip show tensorflowjs"
      ]
    },
    {
      "cell_type": "code",
      "execution_count": 1,
      "metadata": {
        "id": "Hy_pAhzDZ4gy"
      },
      "outputs": [
        {
          "name": "stdout",
          "output_type": "stream",
          "text": [
            "WARNING:tensorflow:From C:\\Users\\Javi\\AppData\\Roaming\\Python\\Python311\\site-packages\\keras\\src\\losses.py:2976: The name tf.losses.sparse_softmax_cross_entropy is deprecated. Please use tf.compat.v1.losses.sparse_softmax_cross_entropy instead.\n",
            "\n",
            "WARNING:tensorflow:From C:\\Users\\Javi\\AppData\\Roaming\\Python\\Python311\\site-packages\\keras\\src\\backend.py:873: The name tf.get_default_graph is deprecated. Please use tf.compat.v1.get_default_graph instead.\n",
            "\n",
            "Comenzando entrenamiento...\n",
            "WARNING:tensorflow:From C:\\Users\\Javi\\AppData\\Roaming\\Python\\Python311\\site-packages\\keras\\src\\utils\\tf_utils.py:492: The name tf.ragged.RaggedTensorValue is deprecated. Please use tf.compat.v1.ragged.RaggedTensorValue instead.\n",
            "\n",
            "Modelo entrenado!\n"
          ]
        }
      ],
      "source": [
        "#Codigo general\n",
        "#Si quieres ver como lo programamos, revisa el video donde lo explico\n",
        "#todo desde cero: https://youtu.be/iX_on3VxZzk\n",
        "\n",
        "import tensorflow as tf\n",
        "import numpy as np\n",
        "\n",
        "celsius = np.array([-40, -10, 0, 8, 15, 22, 38], dtype=float)\n",
        "fahrenheit = np.array([-40, 14, 32, 46, 59, 72, 100], dtype=float)\n",
        "\n",
        "oculta1 = tf.keras.layers.Dense(units=3, input_shape=[1])\n",
        "oculta2 = tf.keras.layers.Dense(units=3)\n",
        "salida = tf.keras.layers.Dense(units=1)\n",
        "modelo = tf.keras.Sequential([oculta1, oculta2, salida])\n",
        "\n",
        "modelo.compile(\n",
        "    optimizer=tf.keras.optimizers.Adam(0.01),\n",
        "    loss='mean_squared_error'\n",
        ")\n",
        "\n",
        "print(\"Comenzando entrenamiento...\")\n",
        "historial = modelo.fit(celsius, fahrenheit, epochs=300, verbose=False)\n",
        "print(\"Modelo entrenado!\")"
      ]
    },
    {
      "cell_type": "code",
      "execution_count": 2,
      "metadata": {
        "id": "dmeMrh4lixOD"
      },
      "outputs": [
        {
          "name": "stdout",
          "output_type": "stream",
          "text": [
            "1/1 [==============================] - 0s 80ms/step\n",
            "Prediccion: 100 grados celsius son [[211.74704]] fahrenheit!\n"
          ]
        }
      ],
      "source": [
        "resultado = modelo.predict([100.0])\n",
        "print(\"Prediccion: 100 grados celsius son \" + str(resultado) + \" fahrenheit!\")"
      ]
    },
    {
      "cell_type": "code",
      "execution_count": 3,
      "metadata": {
        "id": "BWDKFEg86VNg"
      },
      "outputs": [
        {
          "name": "stderr",
          "output_type": "stream",
          "text": [
            "C:\\Users\\Javi\\AppData\\Roaming\\Python\\Python311\\site-packages\\keras\\src\\engine\\training.py:3103: UserWarning: You are saving your model as an HDF5 file via `model.save()`. This file format is considered legacy. We recommend using instead the native Keras format, e.g. `model.save('my_model.keras')`.\n",
            "  saving_api.save_model(\n"
          ]
        }
      ],
      "source": [
        "#Exportar el modelo en formato h5\n",
        "modelo.save('celsius_a_fahrenheit.h5')"
      ]
    },
    {
      "cell_type": "code",
      "execution_count": 5,
      "metadata": {
        "id": "Bkym1KRI6tV2"
      },
      "outputs": [
        {
          "name": "stdout",
          "output_type": "stream",
          "text": [
            " El volumen de la unidad C no tiene etiqueta.\n",
            " El n�mero de serie del volumen es: 7499-4BCC\n",
            "\n",
            " Directorio de c:\\Users\\Javi\\Documents\\Cuadernos Python\\PRO\\Tarea 10\n",
            "\n",
            "17/04/2024  18:26    <DIR>          .\n",
            "17/04/2024  18:26    <DIR>          ..\n",
            "17/04/2024  18:26            32.192 celsius_a_fahrenheit.h5\n",
            "16/04/2024  20:33           146.765 Celsius_a_Fahrenheit_Exportaci�n.ipynb\n",
            "               2 archivos        178.957 bytes\n",
            "               2 dirs  708.487.143.424 bytes libres\n"
          ]
        }
      ],
      "source": [
        "#El equipo es Linux. Listemos el contenido de la carpeta actual para ver que se exporto el modelo\n",
        "!ls"
      ]
    },
    {
      "cell_type": "code",
      "execution_count": 6,
      "metadata": {
        "id": "BPK_9zuh7QRP"
      },
      "outputs": [],
      "source": [
        "#Crear carpeta donde se colocaran los archivos resultantes\n",
        "!mkdir carpeta_salida"
      ]
    },
    {
      "cell_type": "code",
      "execution_count": 4,
      "metadata": {
        "id": "r60H2BHT7XBd"
      },
      "outputs": [
        {
          "name": "stderr",
          "output_type": "stream",
          "text": [
            "2024-04-17 18:52:34.500803: I tensorflow/core/util/port.cc:113] oneDNN custom operations are on. You may see slightly different numerical results due to floating-point round-off errors from different computation orders. To turn them off, set the environment variable `TF_ENABLE_ONEDNN_OPTS=0`.\n",
            "WARNING:tensorflow:From C:\\Users\\Javi\\AppData\\Roaming\\Python\\Python311\\site-packages\\keras\\src\\losses.py:2976: The name tf.losses.sparse_softmax_cross_entropy is deprecated. Please use tf.compat.v1.losses.sparse_softmax_cross_entropy instead.\n",
            "\n",
            "WARNING:root:TensorFlow Decision Forests 1.8.1 is compatible with the following TensorFlow Versions: ['2.15.0']. However, TensorFlow 2.15.1 was detected. This can cause issues with the TF API and symbols in the custom C++ ops. See the TF and TF-DF compatibility table at https://github.com/tensorflow/decision-forests/blob/main/documentation/known_issues.md#compatibility-table.\n",
            "WARNING:root:Failure to load the inference.so custom c++ tensorflow ops. This error is likely caused the version of TensorFlow and TensorFlow Decision Forests are not compatible. Full error:C:\\Users\\Javi\\AppData\\Roaming\\Python\\Python311\\site-packages\\tensorflow_decision_forests\\tensorflow\\ops\\inference\\inference.so not found\n",
            "Traceback (most recent call last):\n",
            "  File \"<frozen runpy>\", line 198, in _run_module_as_main\n",
            "  File \"<frozen runpy>\", line 88, in _run_code\n",
            "  File \"C:\\ProgramData\\anaconda3\\Scripts\\tensorflowjs_converter.exe\\__main__.py\", line 4, in <module>\n",
            "  File \"C:\\ProgramData\\anaconda3\\Lib\\site-packages\\tensorflowjs\\__init__.py\", line 21, in <module>\n",
            "    from tensorflowjs import converters\n",
            "  File \"C:\\ProgramData\\anaconda3\\Lib\\site-packages\\tensorflowjs\\converters\\__init__.py\", line 21, in <module>\n",
            "    from tensorflowjs.converters.converter import convert\n",
            "  File \"C:\\ProgramData\\anaconda3\\Lib\\site-packages\\tensorflowjs\\converters\\converter.py\", line 37, in <module>\n",
            "    from tensorflowjs.converters import tf_saved_model_conversion_v2\n",
            "  File \"C:\\ProgramData\\anaconda3\\Lib\\site-packages\\tensorflowjs\\converters\\tf_saved_model_conversion_v2.py\", line 28, in <module>\n",
            "    import tensorflow_decision_forests\n",
            "  File \"C:\\Users\\Javi\\AppData\\Roaming\\Python\\Python311\\site-packages\\tensorflow_decision_forests\\__init__.py\", line 64, in <module>\n",
            "    from tensorflow_decision_forests import keras\n",
            "  File \"C:\\Users\\Javi\\AppData\\Roaming\\Python\\Python311\\site-packages\\tensorflow_decision_forests\\keras\\__init__.py\", line 53, in <module>\n",
            "    from tensorflow_decision_forests.keras import core\n",
            "  File \"C:\\Users\\Javi\\AppData\\Roaming\\Python\\Python311\\site-packages\\tensorflow_decision_forests\\keras\\core.py\", line 62, in <module>\n",
            "    from tensorflow_decision_forests.keras import core_inference\n",
            "  File \"C:\\Users\\Javi\\AppData\\Roaming\\Python\\Python311\\site-packages\\tensorflow_decision_forests\\keras\\core_inference.py\", line 36, in <module>\n",
            "    from tensorflow_decision_forests.tensorflow.ops.inference import api as tf_op\n",
            "  File \"C:\\Users\\Javi\\AppData\\Roaming\\Python\\Python311\\site-packages\\tensorflow_decision_forests\\tensorflow\\ops\\inference\\api.py\", line 179, in <module>\n",
            "    from tensorflow_decision_forests.tensorflow.ops.inference import op\n",
            "  File \"C:\\Users\\Javi\\AppData\\Roaming\\Python\\Python311\\site-packages\\tensorflow_decision_forests\\tensorflow\\ops\\inference\\op.py\", line 15, in <module>\n",
            "    from tensorflow_decision_forests.tensorflow.ops.inference.op_dynamic import *\n",
            "  File \"C:\\Users\\Javi\\AppData\\Roaming\\Python\\Python311\\site-packages\\tensorflow_decision_forests\\tensorflow\\ops\\inference\\op_dynamic.py\", line 24, in <module>\n",
            "    raise e\n",
            "  File \"C:\\Users\\Javi\\AppData\\Roaming\\Python\\Python311\\site-packages\\tensorflow_decision_forests\\tensorflow\\ops\\inference\\op_dynamic.py\", line 21, in <module>\n",
            "    ops = tf.load_op_library(resource_loader.get_path_to_datafile(\"inference.so\"))\n",
            "          ^^^^^^^^^^^^^^^^^^^^^^^^^^^^^^^^^^^^^^^^^^^^^^^^^^^^^^^^^^^^^^^^^^^^^^^^\n",
            "  File \"C:\\Users\\Javi\\AppData\\Roaming\\Python\\Python311\\site-packages\\tensorflow\\python\\framework\\load_library.py\", line 54, in load_op_library\n",
            "    lib_handle = py_tf.TF_LoadLibrary(library_filename)\n",
            "                 ^^^^^^^^^^^^^^^^^^^^^^^^^^^^^^^^^^^^^^\n",
            "tensorflow.python.framework.errors_impl.NotFoundError: C:\\Users\\Javi\\AppData\\Roaming\\Python\\Python311\\site-packages\\tensorflow_decision_forests\\tensorflow\\ops\\inference\\inference.so not found\n"
          ]
        }
      ],
      "source": [
        "#Realizar la exportacion a la carpeta de salida\n",
        "!tensorflowjs_converter --input_format keras celsius_a_fahrenheit.h5 carpeta_salida"
      ]
    },
    {
      "cell_type": "code",
      "execution_count": null,
      "metadata": {
        "id": "Ye5VGhk57czF"
      },
      "outputs": [],
      "source": [
        "#Confirmar que en la carpeta de salida se hayan generado los archivos. Deben aparecer archivos \"bin\" y \"json\"\n",
        "!ls carpeta_salida"
      ]
    },
    {
      "cell_type": "code",
      "execution_count": null,
      "metadata": {
        "id": "T72BAgLb7jYM"
      },
      "outputs": [],
      "source": [
        "#Para descargarlos, da clic del lado izquierdo en el icono de la carpeta\n",
        "#y expande carpeta_salida. En los archivos utiliza los 3 puntos para descargarlos"
      ]
    }
  ],
  "metadata": {
    "colab": {
      "provenance": []
    },
    "kernelspec": {
      "display_name": "Python 3",
      "name": "python3"
    },
    "language_info": {
      "codemirror_mode": {
        "name": "ipython",
        "version": 3
      },
      "file_extension": ".py",
      "mimetype": "text/x-python",
      "name": "python",
      "nbconvert_exporter": "python",
      "pygments_lexer": "ipython3",
      "version": "3.11.5"
    }
  },
  "nbformat": 4,
  "nbformat_minor": 0
}
