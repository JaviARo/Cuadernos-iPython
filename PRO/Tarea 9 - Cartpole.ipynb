{
 "cells": [
  {
   "cell_type": "code",
   "execution_count": 11,
   "metadata": {},
   "outputs": [
    {
     "name": "stdout",
     "output_type": "stream",
     "text": [
      "Defaulting to user installation because normal site-packages is not writeable\n",
      "Requirement already satisfied: gym in c:\\users\\javi\\appdata\\roaming\\python\\python311\\site-packages (0.26.2)\n",
      "Requirement already satisfied: numpy>=1.18.0 in c:\\programdata\\anaconda3\\lib\\site-packages (from gym) (1.24.3)\n",
      "Requirement already satisfied: cloudpickle>=1.2.0 in c:\\programdata\\anaconda3\\lib\\site-packages (from gym) (2.2.1)\n",
      "Requirement already satisfied: gym-notices>=0.0.4 in c:\\users\\javi\\appdata\\roaming\\python\\python311\\site-packages (from gym) (0.0.8)\n",
      "Note: you may need to restart the kernel to use updated packages.\n",
      "Defaulting to user installation because normal site-packages is not writeableNote: you may need to restart the kernel to use updated packages.\n",
      "\n",
      "Requirement already satisfied: pygame in c:\\users\\javi\\appdata\\roaming\\python\\python311\\site-packages (2.5.2)\n"
     ]
    }
   ],
   "source": [
    "%pip install --upgrade gym\n",
    "%pip install pygame"
   ]
  },
  {
   "cell_type": "code",
   "execution_count": 4,
   "metadata": {
    "_cell_guid": "b1076dfc-b9ad-4769-8c92-a6c4dae69d19",
    "_uuid": "8f2839f25d086af736a60e9eeb907d3b93b6e0e5"
   },
   "outputs": [],
   "source": [
    "# This Python 3 environment comes with many helpful analytics libraries installed\n",
    "# It is defined by the kaggle/python docker image: https://github.com/kaggle/docker-python\n",
    "# For example, here's several helpful packages to load in \n",
    "\n",
    "import numpy as np # linear algebra\n",
    "import pandas as pd # data processing, CSV file I/O (e.g. pd.read_csv)\n",
    "import gym # for environment\n",
    "from collections import deque\n",
    "from keras.models import Sequential\n",
    "from keras.layers import Dense\n",
    "from keras.optimizers import Adam # adaptive momentum \n",
    "import random\n",
    "\n",
    "# Input data files are available in the \"../input/\" directory.\n",
    "# For example, running this (by clicking run or pressing Shift+Enter) will list all files under the input directory"
   ]
  },
  {
   "cell_type": "code",
   "execution_count": 12,
   "metadata": {},
   "outputs": [],
   "source": [
    "env=gym.make('MountainCar-v0', render_mode='human')\n",
    "env.reset()\n",
    "env.render()"
   ]
  },
  {
   "cell_type": "code",
   "execution_count": 14,
   "metadata": {
    "_cell_guid": "79c7e3d0-c299-4dcb-8224-4455121ee9b0",
    "_uuid": "d629ff2d2480ee46fbb7e2d37f6b5fab8052498a"
   },
   "outputs": [
    {
     "name": "stderr",
     "output_type": "stream",
     "text": [
      "C:\\Users\\Javi\\AppData\\Roaming\\Python\\Python311\\site-packages\\gym\\envs\\registration.py:555: UserWarning: \u001b[33mWARN: The environment CartPole-v0 is out of date. You should consider upgrading to version `v1`.\u001b[0m\n",
      "  logger.warn(\n"
     ]
    },
    {
     "ename": "ValueError",
     "evalue": "setting an array element with a sequence. The requested array has an inhomogeneous shape after 1 dimensions. The detected shape was (2,) + inhomogeneous part.",
     "output_type": "error",
     "traceback": [
      "\u001b[1;31m---------------------------------------------------------------------------\u001b[0m",
      "\u001b[1;31mValueError\u001b[0m                                Traceback (most recent call last)",
      "Cell \u001b[1;32mIn[14], line 82\u001b[0m\n\u001b[0;32m     79\u001b[0m state \u001b[38;5;241m=\u001b[39m env\u001b[38;5;241m.\u001b[39mreset()\n\u001b[0;32m     80\u001b[0m \u001b[38;5;66;03m# state = tuple(np.array(item) for item in state)\u001b[39;00m\n\u001b[0;32m     81\u001b[0m \u001b[38;5;66;03m# state = np.array(state)\u001b[39;00m\n\u001b[1;32m---> 82\u001b[0m state \u001b[38;5;241m=\u001b[39m np\u001b[38;5;241m.\u001b[39mreshape(state, [\u001b[38;5;241m1\u001b[39m,\u001b[38;5;241m4\u001b[39m])\n\u001b[0;32m     84\u001b[0m time \u001b[38;5;241m=\u001b[39m \u001b[38;5;241m0\u001b[39m \u001b[38;5;66;03m# each second I will get reward, because I want to sustain a balance forever\u001b[39;00m\n\u001b[0;32m     85\u001b[0m \u001b[38;5;28;01mwhile\u001b[39;00m \u001b[38;5;28;01mTrue\u001b[39;00m:\n\u001b[0;32m     86\u001b[0m \t\t\n\u001b[0;32m     87\u001b[0m \t\u001b[38;5;66;03m# act\u001b[39;00m\n",
      "File \u001b[1;32m<__array_function__ internals>:200\u001b[0m, in \u001b[0;36mreshape\u001b[1;34m(*args, **kwargs)\u001b[0m\n",
      "File \u001b[1;32mc:\\ProgramData\\anaconda3\\Lib\\site-packages\\numpy\\core\\fromnumeric.py:298\u001b[0m, in \u001b[0;36mreshape\u001b[1;34m(a, newshape, order)\u001b[0m\n\u001b[0;32m    198\u001b[0m \u001b[38;5;129m@array_function_dispatch\u001b[39m(_reshape_dispatcher)\n\u001b[0;32m    199\u001b[0m \u001b[38;5;28;01mdef\u001b[39;00m \u001b[38;5;21mreshape\u001b[39m(a, newshape, order\u001b[38;5;241m=\u001b[39m\u001b[38;5;124m'\u001b[39m\u001b[38;5;124mC\u001b[39m\u001b[38;5;124m'\u001b[39m):\n\u001b[0;32m    200\u001b[0m \u001b[38;5;250m    \u001b[39m\u001b[38;5;124;03m\"\"\"\u001b[39;00m\n\u001b[0;32m    201\u001b[0m \u001b[38;5;124;03m    Gives a new shape to an array without changing its data.\u001b[39;00m\n\u001b[0;32m    202\u001b[0m \n\u001b[1;32m   (...)\u001b[0m\n\u001b[0;32m    296\u001b[0m \u001b[38;5;124;03m           [5, 6]])\u001b[39;00m\n\u001b[0;32m    297\u001b[0m \u001b[38;5;124;03m    \"\"\"\u001b[39;00m\n\u001b[1;32m--> 298\u001b[0m     \u001b[38;5;28;01mreturn\u001b[39;00m _wrapfunc(a, \u001b[38;5;124m'\u001b[39m\u001b[38;5;124mreshape\u001b[39m\u001b[38;5;124m'\u001b[39m, newshape, order\u001b[38;5;241m=\u001b[39morder)\n",
      "File \u001b[1;32mc:\\ProgramData\\anaconda3\\Lib\\site-packages\\numpy\\core\\fromnumeric.py:54\u001b[0m, in \u001b[0;36m_wrapfunc\u001b[1;34m(obj, method, *args, **kwds)\u001b[0m\n\u001b[0;32m     52\u001b[0m bound \u001b[38;5;241m=\u001b[39m \u001b[38;5;28mgetattr\u001b[39m(obj, method, \u001b[38;5;28;01mNone\u001b[39;00m)\n\u001b[0;32m     53\u001b[0m \u001b[38;5;28;01mif\u001b[39;00m bound \u001b[38;5;129;01mis\u001b[39;00m \u001b[38;5;28;01mNone\u001b[39;00m:\n\u001b[1;32m---> 54\u001b[0m     \u001b[38;5;28;01mreturn\u001b[39;00m _wrapit(obj, method, \u001b[38;5;241m*\u001b[39margs, \u001b[38;5;241m*\u001b[39m\u001b[38;5;241m*\u001b[39mkwds)\n\u001b[0;32m     56\u001b[0m \u001b[38;5;28;01mtry\u001b[39;00m:\n\u001b[0;32m     57\u001b[0m     \u001b[38;5;28;01mreturn\u001b[39;00m bound(\u001b[38;5;241m*\u001b[39margs, \u001b[38;5;241m*\u001b[39m\u001b[38;5;241m*\u001b[39mkwds)\n",
      "File \u001b[1;32mc:\\ProgramData\\anaconda3\\Lib\\site-packages\\numpy\\core\\fromnumeric.py:43\u001b[0m, in \u001b[0;36m_wrapit\u001b[1;34m(obj, method, *args, **kwds)\u001b[0m\n\u001b[0;32m     41\u001b[0m \u001b[38;5;28;01mexcept\u001b[39;00m \u001b[38;5;167;01mAttributeError\u001b[39;00m:\n\u001b[0;32m     42\u001b[0m     wrap \u001b[38;5;241m=\u001b[39m \u001b[38;5;28;01mNone\u001b[39;00m\n\u001b[1;32m---> 43\u001b[0m result \u001b[38;5;241m=\u001b[39m \u001b[38;5;28mgetattr\u001b[39m(asarray(obj), method)(\u001b[38;5;241m*\u001b[39margs, \u001b[38;5;241m*\u001b[39m\u001b[38;5;241m*\u001b[39mkwds)\n\u001b[0;32m     44\u001b[0m \u001b[38;5;28;01mif\u001b[39;00m wrap:\n\u001b[0;32m     45\u001b[0m     \u001b[38;5;28;01mif\u001b[39;00m \u001b[38;5;129;01mnot\u001b[39;00m \u001b[38;5;28misinstance\u001b[39m(result, mu\u001b[38;5;241m.\u001b[39mndarray):\n",
      "\u001b[1;31mValueError\u001b[0m: setting an array element with a sequence. The requested array has an inhomogeneous shape after 1 dimensions. The detected shape was (2,) + inhomogeneous part."
     ]
    }
   ],
   "source": [
    "class DQLAgent(): \n",
    "    \n",
    "\tdef __init__(self, env):\n",
    "\t\t# parameters and hyperparameters\n",
    "\t\t\n",
    "\t\t# this part is for neural network or build_model()\n",
    "\t\tself.state_size = env.observation_space.shape[0] # this is for input of neural network node size\n",
    "\t\tself.action_size = env.action_space.n # this is for out of neural network node size\n",
    "\t\t\n",
    "\t\t# this part is for replay()\n",
    "\t\tself.gamma = 0.95\n",
    "\t\tself.learning_rate = 0.001\n",
    "\t\t\n",
    "\t\t# this part is for adaptiveEGreedy()\n",
    "\t\tself.epsilon = 1 # initial exploration rate\n",
    "\t\tself.epsilon_decay = 0.995\n",
    "\t\tself.epsilon_min = 0.01\n",
    "\t\t\n",
    "\t\tself.memory = deque(maxlen = 1000) # a list with 1000 memory, if it becomes full first inputs will be deleted\n",
    "\t\t\n",
    "\t\tself.model = self.build_model()\n",
    "\t\n",
    "\tdef build_model(self):\n",
    "\t\t# neural network for deep Q learning\n",
    "\t\tmodel = Sequential()\n",
    "\t\tmodel.add(Dense(48, input_dim = self.state_size, activation = 'tanh')) # first hidden layer\n",
    "\t\tmodel.add(Dense(self.action_size, activation = 'linear')) # output layer\n",
    "\t\tmodel.compile(loss = 'mse', optimizer = Adam(learning_rate = self.learning_rate))\n",
    "\t\treturn model\n",
    "\t\n",
    "\tdef remember(self, state, action, reward, next_state, done):\n",
    "\t\t# storage\n",
    "\t\tself.memory.append((state, action, reward, next_state, done))\n",
    "\t\n",
    "\tdef act(self, state):\n",
    "\t\t# acting, exploit or explore\n",
    "\t\tif random.uniform(0,1) <= self.epsilon:\n",
    "\t\t\t\treturn env.action_space.sample()\n",
    "\t\telse:\n",
    "\t\t\t\tact_values = self.model.predict(state)\n",
    "\t\t\t\treturn np.argmax(act_values)\n",
    "\t\t\t\t\n",
    "\t\n",
    "\tdef replay(self, batch_size):\n",
    "\t\t# training\n",
    "\t\t\n",
    "\t\tif len(self.memory) < batch_size:\n",
    "\t\t\t\treturn # memory is still not full\n",
    "\t\t\n",
    "\t\tminibatch = random.sample(self.memory, batch_size) # take 16 (batch_size) random samples from memory\n",
    "\t\tfor state, action, reward, next_state, done in minibatch:\n",
    "\t\t\tif done: # if the game is over, I dont have next state, I just have reward \n",
    "\t\t\t\ttarget = reward\n",
    "\t\t\telse:\n",
    "\t\t\t\ttarget = reward + self.gamma * np.amax(self.model.predict(next_state)[0]) \n",
    "\t\t\t\t# target = R(s,a) + gamma * max Q`(s`,a`)\n",
    "\t\t\t\t# target (max Q` value) is output of Neural Network which takes s` as an input \n",
    "\t\t\t\t# amax(): flatten the lists (make them 1 list) and take max value\n",
    "\t\t\ttrain_target = self.model.predict(state) # s --> NN --> Q(s,a)=train_target\n",
    "\t\t\ttrain_target[0][action] = target\n",
    "\t\t\tself.model.fit(state, train_target, verbose = 0) # verbose: dont show loss and epoch\n",
    "\t\n",
    "\tdef adaptiveEGreedy(self):\n",
    "\t\tif self.epsilon > self.epsilon_min:\n",
    "\t\t\tself.epsilon *= self.epsilon_decay\n",
    "\t\t\t\t\t\n",
    "\n",
    "if __name__ == \"__main__\":\n",
    "\t\n",
    "\t# initialize gym environment and agent\n",
    "\tenv = gym.make('CartPole-v0')\n",
    "\tagent = DQLAgent(env)\n",
    "\n",
    "\tbatch_size = 16\n",
    "\tepisodes = 50\n",
    "\tfor e in range(episodes):\n",
    "\t\t\t\n",
    "\t\t# initialize environment\n",
    "\t\tstate = env.reset()\n",
    "\t\t# state = tuple(np.array(item) for item in state)\n",
    "\t\t# state = np.array(state)\n",
    "\t\tstate = np.reshape(state, [1,4])\n",
    "\t\t\n",
    "\t\ttime = 0 # each second I will get reward, because I want to sustain a balance forever\n",
    "\t\twhile True:\n",
    "\t\t\t\t\n",
    "\t\t\t# act\n",
    "\t\t\taction = agent.act(state)\n",
    "\t\t\t\n",
    "\t\t\t# step\n",
    "\t\t\tnext_state, reward, done, _ = env.step(action)\n",
    "\t\t\tnext_state = np.reshape(next_state, [1,4])\n",
    "\t\t\t\n",
    "\t\t\t# remember / storage\n",
    "\t\t\tagent.remember(state, action, reward, next_state, done)\n",
    "\t\t\t\n",
    "\t\t\t# update state\n",
    "\t\t\tstate = next_state\n",
    "\t\t\t\n",
    "\t\t\t# replay\n",
    "\t\t\tagent.replay(batch_size)\n",
    "\t\t\t\n",
    "\t\t\t# adjust epsilon\n",
    "\t\t\tagent.adaptiveEGreedy()\n",
    "\t\t\t\n",
    "\t\t\ttime += 1\n",
    "\t\t\t\n",
    "\t\t\tif done:\n",
    "\t\t\t\tprint('episode: {}, time: {}'.format(e, time))\n",
    "\t\t\t\tbreak"
   ]
  },
  {
   "cell_type": "markdown",
   "metadata": {},
   "source": [
    "**if time = 200, it means that I have 100% success because after 200 times the game resets**"
   ]
  },
  {
   "cell_type": "markdown",
   "metadata": {},
   "source": [
    "**Test Part**"
   ]
  },
  {
   "cell_type": "markdown",
   "metadata": {},
   "source": [
    "# change this cell to code \n",
    "import time\n",
    "\n",
    "trained_model = agent # Now I have trained agent\n",
    "state = env.reset() # Game will start with inital random state\n",
    "state = np.reshape(state, [1,4])\n",
    "time_t = 0\n",
    "\n",
    "while True:\n",
    "    env.render()\n",
    "    action = trained_model.act(state)\n",
    "    next_state, reward, done, _ = env.step(action)\n",
    "    next_state = np.reshape(next_state, [1,4])\n",
    "    state = next_state\n",
    "    time_t += 1\n",
    "    print(time_t)\n",
    "    time.sleep(0.01)\n",
    "    if done:\n",
    "        break\n",
    "\n",
    "print('Done')            "
   ]
  },
  {
   "cell_type": "code",
   "execution_count": null,
   "metadata": {},
   "outputs": [],
   "source": []
  }
 ],
 "metadata": {
  "kernelspec": {
   "display_name": "Python 3",
   "language": "python",
   "name": "python3"
  },
  "language_info": {
   "codemirror_mode": {
    "name": "ipython",
    "version": 3
   },
   "file_extension": ".py",
   "mimetype": "text/x-python",
   "name": "python",
   "nbconvert_exporter": "python",
   "pygments_lexer": "ipython3",
   "version": "3.11.5"
  }
 },
 "nbformat": 4,
 "nbformat_minor": 1
}
